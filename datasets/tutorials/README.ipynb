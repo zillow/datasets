{
 "cells": [
  {
   "cell_type": "code",
   "execution_count": 12,
   "id": "981f3349-6171-4471-aa7e-7c7d081a2bdb",
   "metadata": {},
   "outputs": [
    {
     "name": "stdout",
     "output_type": "stream",
     "text": [
      "\u001b[35m\u001b[1mMetaflow None\u001b[0m\u001b[35m\u001b[22m executing \u001b[0m\u001b[31m\u001b[1mHelloDatasetFlow\u001b[0m\u001b[35m\u001b[22m\u001b[0m\u001b[35m\u001b[22m for \u001b[0m\u001b[31m\u001b[1muser:talebz\u001b[0m\u001b[35m\u001b[22m\u001b[K\u001b[0m\u001b[35m\u001b[22m\u001b[0m\n",
      "\u001b[35m\u001b[22mValidating your flow...\u001b[K\u001b[0m\u001b[35m\u001b[22m\u001b[0m\n",
      "\u001b[32m\u001b[1m    The graph looks good!\u001b[K\u001b[0m\u001b[32m\u001b[1m\u001b[0m\n",
      "\u001b[35m\u001b[22mRunning pylint...\u001b[K\u001b[0m\u001b[35m\u001b[22m\u001b[0m\n",
      "\u001b[32m\u001b[1m    Pylint is happy!\u001b[K\u001b[0m\u001b[32m\u001b[1m\u001b[0m\n",
      "\u001b[35m2021-10-31 14:47:51.109 \u001b[0m\u001b[1mWorkflow starting (run-id 1635716871102784):\u001b[0m\n",
      "\u001b[35m2021-10-31 14:47:51.116 \u001b[0m\u001b[32m[1635716871102784/start/1 (pid 65490)] \u001b[0m\u001b[1mTask is starting.\u001b[0m\n",
      "\u001b[35m2021-10-31 14:47:51.883 \u001b[0m\u001b[32m[1635716871102784/start/1 (pid 65490)] \u001b[0m\u001b[22msaving df:\u001b[0m\n",
      "\u001b[35m2021-10-31 14:47:51.883 \u001b[0m\u001b[32m[1635716871102784/start/1 (pid 65490)] \u001b[0m\u001b[22mregion  zpid\u001b[0m\n",
      "\u001b[35m2021-10-31 14:47:51.884 \u001b[0m\u001b[32m[1635716871102784/start/1 (pid 65490)] \u001b[0m\u001b[22mA     1\u001b[0m\n",
      "\u001b[35m2021-10-31 14:47:51.884 \u001b[0m\u001b[32m[1635716871102784/start/1 (pid 65490)] \u001b[0m\u001b[22mA     2\u001b[0m\n",
      "\u001b[35m2021-10-31 14:47:51.884 \u001b[0m\u001b[32m[1635716871102784/start/1 (pid 65490)] \u001b[0m\u001b[22mA     3\u001b[0m\n",
      "\u001b[35m2021-10-31 14:47:51.884 \u001b[0m\u001b[32m[1635716871102784/start/1 (pid 65490)] \u001b[0m\u001b[22mB     4\u001b[0m\n",
      "\u001b[35m2021-10-31 14:47:51.884 \u001b[0m\u001b[32m[1635716871102784/start/1 (pid 65490)] \u001b[0m\u001b[22mB     5\u001b[0m\n",
      "\u001b[35m2021-10-31 14:47:51.884 \u001b[0m\u001b[32m[1635716871102784/start/1 (pid 65490)] \u001b[0m\u001b[22mB     6\u001b[0m\n",
      "\u001b[35m2021-10-31 14:47:51.884 \u001b[0m\u001b[32m[1635716871102784/start/1 (pid 65490)] \u001b[0m\u001b[22mself.hello_dataset.program_name='HelloDatasetFlow'\u001b[0m\n",
      "\u001b[35m2021-10-31 14:47:52.041 \u001b[0m\u001b[32m[1635716871102784/start/1 (pid 65490)] \u001b[0m\u001b[1mTask finished successfully.\u001b[0m\n",
      "\u001b[35m2021-10-31 14:47:52.050 \u001b[0m\u001b[32m[1635716871102784/end/2 (pid 65495)] \u001b[0m\u001b[1mTask is starting.\u001b[0m\n",
      "\u001b[35m2021-10-31 14:47:52.775 \u001b[0m\u001b[32m[1635716871102784/end/2 (pid 65495)] \u001b[0m\u001b[22mI have dataset\u001b[0m\n",
      "\u001b[35m2021-10-31 14:47:52.858 \u001b[0m\u001b[32m[1635716871102784/end/2 (pid 65495)] \u001b[0m\u001b[22mself.hello_dataset=BatchDatasetPlugin(self.name='hello_dataset',self.key=None,self.partition_by='region',self.run_id=None,self.columns=None,dataset_path=/Users/talebz/src/zda/datasets/.metaflow/datastore/HelloDatasetFlow/hello_dataset)\u001b[0m\n",
      "\u001b[35m2021-10-31 14:47:52.858 \u001b[0m\u001b[32m[1635716871102784/end/2 (pid 65495)] \u001b[0m\u001b[22mself.hello_dataset.read_pandas():\u001b[0m\n",
      "\u001b[35m2021-10-31 14:47:52.950 \u001b[0m\u001b[32m[1635716871102784/end/2 (pid 65495)] \u001b[0m\u001b[22mzpid region\u001b[0m\n",
      "\u001b[35m2021-10-31 14:47:52.950 \u001b[0m\u001b[32m[1635716871102784/end/2 (pid 65495)] \u001b[0m\u001b[22m1      A\u001b[0m\n",
      "\u001b[35m2021-10-31 14:47:52.950 \u001b[0m\u001b[32m[1635716871102784/end/2 (pid 65495)] \u001b[0m\u001b[22m2      A\u001b[0m\n",
      "\u001b[35m2021-10-31 14:47:52.950 \u001b[0m\u001b[32m[1635716871102784/end/2 (pid 65495)] \u001b[0m\u001b[22m3      A\u001b[0m\n",
      "\u001b[35m2021-10-31 14:47:52.951 \u001b[0m\u001b[32m[1635716871102784/end/2 (pid 65495)] \u001b[0m\u001b[22m4      B\u001b[0m\n",
      "\u001b[35m2021-10-31 14:47:52.951 \u001b[0m\u001b[32m[1635716871102784/end/2 (pid 65495)] \u001b[0m\u001b[22m5      B\u001b[0m\n",
      "\u001b[35m2021-10-31 14:47:52.951 \u001b[0m\u001b[32m[1635716871102784/end/2 (pid 65495)] \u001b[0m\u001b[22m6      B\u001b[0m\n",
      "\u001b[35m2021-10-31 14:47:52.953 \u001b[0m\u001b[32m[1635716871102784/end/2 (pid 65495)] \u001b[0m\u001b[1mTask finished successfully.\u001b[0m\n",
      "\u001b[35m2021-10-31 14:47:52.954 \u001b[0m\u001b[1mDone!\u001b[0m\n",
      "\u001b[0m"
     ]
    }
   ],
   "source": [
    "!python 0_hello_dataset_flow.py run"
   ]
  },
  {
   "cell_type": "code",
   "execution_count": 13,
   "id": "ab81a300-04a7-4b2b-9acc-bbe128b1cdbc",
   "metadata": {},
   "outputs": [
    {
     "name": "stdout",
     "output_type": "stream",
     "text": [
      "\u001b[35m\u001b[1mMetaflow None\u001b[0m\u001b[35m\u001b[22m executing \u001b[0m\u001b[31m\u001b[1mInputOutputDatasetFlow\u001b[0m\u001b[35m\u001b[22m\u001b[0m\u001b[35m\u001b[22m for \u001b[0m\u001b[31m\u001b[1muser:talebz\u001b[0m\u001b[35m\u001b[22m\u001b[K\u001b[0m\u001b[35m\u001b[22m\u001b[0m\n",
      "\u001b[35m\u001b[22mValidating your flow...\u001b[K\u001b[0m\u001b[35m\u001b[22m\u001b[0m\n",
      "\u001b[32m\u001b[1m    The graph looks good!\u001b[K\u001b[0m\u001b[32m\u001b[1m\u001b[0m\n",
      "\u001b[35m\u001b[22mRunning pylint...\u001b[K\u001b[0m\u001b[35m\u001b[22m\u001b[0m\n",
      "\u001b[32m\u001b[1m    Pylint is happy!\u001b[K\u001b[0m\u001b[32m\u001b[1m\u001b[0m\n",
      "\u001b[35m2021-10-31 14:47:55.955 \u001b[0m\u001b[1mWorkflow starting (run-id 1635716875949634):\u001b[0m\n",
      "\u001b[35m2021-10-31 14:47:55.962 \u001b[0m\u001b[32m[1635716875949634/start/1 (pid 65504)] \u001b[0m\u001b[1mTask is starting.\u001b[0m\n",
      "\u001b[35m2021-10-31 14:47:56.926 \u001b[0m\u001b[32m[1635716875949634/start/1 (pid 65504)] \u001b[0m\u001b[1mTask finished successfully.\u001b[0m\n",
      "\u001b[35m2021-10-31 14:47:56.935 \u001b[0m\u001b[32m[1635716875949634/end/2 (pid 65508)] \u001b[0m\u001b[1mTask is starting.\u001b[0m\n",
      "\u001b[35m2021-10-31 14:47:57.729 \u001b[0m\u001b[32m[1635716875949634/end/2 (pid 65508)] \u001b[0m\u001b[22mI have dataset\u001b[0m\n",
      "\u001b[35m2021-10-31 14:47:57.822 \u001b[0m\u001b[32m[1635716875949634/end/2 (pid 65508)] \u001b[0m\u001b[22mself.output_dataset=BatchDatasetPlugin(self.name='output_dataset',self.key=None,self.partition_by='date_key,region',self.run_id='1635716875949634',self.columns=None,dataset_path=/Users/talebz/src/zda/datasets/.metaflow/datastore/InputOutputDatasetFlow/output_dataset)\u001b[0m\n",
      "\u001b[35m2021-10-31 14:47:57.822 \u001b[0m\u001b[32m[1635716875949634/end/2 (pid 65508)] \u001b[0m\u001b[22mself.my_dataset.read_pandas:\u001b[0m\n",
      "\u001b[35m2021-10-31 14:47:57.837 \u001b[0m\u001b[32m[1635716875949634/end/2 (pid 65508)] \u001b[0m\u001b[22mzpid    date_key region\u001b[0m\n",
      "\u001b[35m2021-10-31 14:47:57.838 \u001b[0m\u001b[32m[1635716875949634/end/2 (pid 65508)] \u001b[0m\u001b[22m1  10-01-2021      A\u001b[0m\n",
      "\u001b[35m2021-10-31 14:47:57.838 \u001b[0m\u001b[32m[1635716875949634/end/2 (pid 65508)] \u001b[0m\u001b[22m2  10-01-2021      A\u001b[0m\n",
      "\u001b[35m2021-10-31 14:47:57.838 \u001b[0m\u001b[32m[1635716875949634/end/2 (pid 65508)] \u001b[0m\u001b[22m3  10-01-2021      A\u001b[0m\n",
      "\u001b[35m2021-10-31 14:47:57.838 \u001b[0m\u001b[32m[1635716875949634/end/2 (pid 65508)] \u001b[0m\u001b[22m4  10-01-2021      B\u001b[0m\n",
      "\u001b[35m2021-10-31 14:47:57.838 \u001b[0m\u001b[32m[1635716875949634/end/2 (pid 65508)] \u001b[0m\u001b[22m5  10-01-2021      B\u001b[0m\n",
      "\u001b[35m2021-10-31 14:47:57.839 \u001b[0m\u001b[32m[1635716875949634/end/2 (pid 65508)] \u001b[0m\u001b[22m6  10-01-2021      B\u001b[0m\n",
      "\u001b[35m2021-10-31 14:47:57.839 \u001b[0m\u001b[32m[1635716875949634/end/2 (pid 65508)] \u001b[0m\u001b[22mzpid region\u001b[0m\n",
      "\u001b[35m2021-10-31 14:47:57.944 \u001b[0m\u001b[32m[1635716875949634/end/2 (pid 65508)] \u001b[0m\u001b[22m1      A\u001b[0m\n",
      "\u001b[35m2021-10-31 14:47:57.944 \u001b[0m\u001b[32m[1635716875949634/end/2 (pid 65508)] \u001b[0m\u001b[22m2      A\u001b[0m\n",
      "\u001b[35m2021-10-31 14:47:57.944 \u001b[0m\u001b[32m[1635716875949634/end/2 (pid 65508)] \u001b[0m\u001b[22m3      A\u001b[0m\n",
      "\u001b[35m2021-10-31 14:47:57.944 \u001b[0m\u001b[32m[1635716875949634/end/2 (pid 65508)] \u001b[0m\u001b[22m4      B\u001b[0m\n",
      "\u001b[35m2021-10-31 14:47:57.944 \u001b[0m\u001b[32m[1635716875949634/end/2 (pid 65508)] \u001b[0m\u001b[22m5      B\u001b[0m\n",
      "\u001b[35m2021-10-31 14:47:57.945 \u001b[0m\u001b[32m[1635716875949634/end/2 (pid 65508)] \u001b[0m\u001b[22m6      B\u001b[0m\n",
      "\u001b[35m2021-10-31 14:47:57.946 \u001b[0m\u001b[32m[1635716875949634/end/2 (pid 65508)] \u001b[0m\u001b[1mTask finished successfully.\u001b[0m\n",
      "\u001b[35m2021-10-31 14:47:57.947 \u001b[0m\u001b[1mDone!\u001b[0m\n",
      "\u001b[0m"
     ]
    }
   ],
   "source": [
    "!python 1_input_output_flow.py run"
   ]
  },
  {
   "cell_type": "markdown",
   "id": "f20b4c12-f036-446c-9f86-64558e692c8a",
   "metadata": {},
   "source": [
    "# The Consistent Flow!"
   ]
  },
  {
   "cell_type": "markdown",
   "id": "af42c2d4-8b60-4b68-b6f6-488f0ea5bada",
   "metadata": {},
   "source": [
    "### Default Context is BATCH"
   ]
  },
  {
   "cell_type": "code",
   "execution_count": 15,
   "id": "faec4f91-c21e-44a3-9fe3-2de184a81886",
   "metadata": {},
   "outputs": [
    {
     "name": "stdout",
     "output_type": "stream",
     "text": [
      "\u001b[35m\u001b[1mMetaflow None\u001b[0m\u001b[35m\u001b[22m executing \u001b[0m\u001b[31m\u001b[1mConsistentFlow\u001b[0m\u001b[35m\u001b[22m\u001b[0m\u001b[35m\u001b[22m for \u001b[0m\u001b[31m\u001b[1muser:talebz\u001b[0m\u001b[35m\u001b[22m\u001b[K\u001b[0m\u001b[35m\u001b[22m\u001b[0m\n",
      "\u001b[35m\u001b[22mValidating your flow...\u001b[K\u001b[0m\u001b[35m\u001b[22m\u001b[0m\n",
      "\u001b[32m\u001b[1m    The graph looks good!\u001b[K\u001b[0m\u001b[32m\u001b[1m\u001b[0m\n",
      "\u001b[35m2021-10-31 14:48:55.258 \u001b[0m\u001b[1mWorkflow starting (run-id 1635716935251536):\u001b[0m\n",
      "\u001b[35m2021-10-31 14:48:55.263 \u001b[0m\u001b[32m[1635716935251536/start/1 (pid 65557)] \u001b[0m\u001b[1mTask is starting.\u001b[0m\n",
      "\u001b[35m2021-10-31 14:48:56.196 \u001b[0m\u001b[32m[1635716935251536/start/1 (pid 65557)] \u001b[0m\u001b[22mself.hello_ds=BatchDatasetPlugin(self.name='hello_ds',self.key=None,self.partition_by=None,self.run_id=None,self.columns='key,value',dataset_path=/Users/talebz/src/zda/datasets/.metaflow/datastore/ConsistentFlow/hello_ds)\u001b[0m\n",
      "\u001b[35m2021-10-31 14:48:56.407 \u001b[0m\u001b[32m[1635716935251536/start/1 (pid 65557)] \u001b[0m\u001b[22mself.hello_ds._executor.context=<Context.BATCH: 1>\u001b[0m\n",
      "\u001b[35m2021-10-31 14:48:56.407 \u001b[0m\u001b[32m[1635716935251536/start/1 (pid 65557)] \u001b[0m\u001b[22mread_df=      key  value\u001b[0m\n",
      "\u001b[35m2021-10-31 14:48:56.525 \u001b[0m\u001b[32m[1635716935251536/start/1 (pid 65557)] \u001b[0m\u001b[22m0  secret     42\u001b[0m\n",
      "\u001b[35m2021-10-31 14:48:56.528 \u001b[0m\u001b[32m[1635716935251536/start/1 (pid 65557)] \u001b[0m\u001b[1mTask finished successfully.\u001b[0m\n",
      "\u001b[35m2021-10-31 14:48:56.536 \u001b[0m\u001b[32m[1635716935251536/end/2 (pid 65562)] \u001b[0m\u001b[1mTask is starting.\u001b[0m\n",
      "\u001b[35m2021-10-31 14:48:57.366 \u001b[0m\u001b[32m[1635716935251536/end/2 (pid 65562)] \u001b[0m\u001b[22mdone!\u001b[0m\n",
      "\u001b[35m2021-10-31 14:48:57.461 \u001b[0m\u001b[32m[1635716935251536/end/2 (pid 65562)] \u001b[0m\u001b[1mTask finished successfully.\u001b[0m\n",
      "\u001b[35m2021-10-31 14:48:57.462 \u001b[0m\u001b[1mDone!\u001b[0m\n"
     ]
    }
   ],
   "source": [
    "!python 5_consistent_flow.py --no-pylint run"
   ]
  },
  {
   "cell_type": "markdown",
   "id": "b1d18870-81bd-4087-9b3d-d31551deac1c",
   "metadata": {},
   "source": [
    "### Try it with ONLINE"
   ]
  },
  {
   "cell_type": "code",
   "execution_count": 22,
   "id": "995b046c-eda7-40d5-a7b5-a25a484cc137",
   "metadata": {},
   "outputs": [
    {
     "name": "stdout",
     "output_type": "stream",
     "text": [
      "\u001b[35m\u001b[1mMetaflow None\u001b[0m\u001b[35m\u001b[22m executing \u001b[0m\u001b[31m\u001b[1mConsistentFlow\u001b[0m\u001b[35m\u001b[22m\u001b[0m\u001b[35m\u001b[22m for \u001b[0m\u001b[31m\u001b[1muser:talebz\u001b[0m\u001b[35m\u001b[22m\u001b[K\u001b[0m\u001b[35m\u001b[22m\u001b[0m\n",
      "\u001b[35m\u001b[22mValidating your flow...\u001b[K\u001b[0m\u001b[35m\u001b[22m\u001b[0m\n",
      "\u001b[32m\u001b[1m    The graph looks good!\u001b[K\u001b[0m\u001b[32m\u001b[1m\u001b[0m\n",
      "\u001b[35m2021-10-31 14:50:31.516 \u001b[0m\u001b[1mWorkflow starting (run-id 1635717031507357):\u001b[0m\n",
      "\u001b[35m2021-10-31 14:50:31.521 \u001b[0m\u001b[32m[1635717031507357/start/1 (pid 65656)] \u001b[0m\u001b[1mTask is starting.\u001b[0m\n",
      "\u001b[35m2021-10-31 14:50:32.366 \u001b[0m\u001b[32m[1635717031507357/start/1 (pid 65656)] \u001b[0m\u001b[22mself.hello_ds=DatasetPlugin(self.name='hello_ds',self.mode=<Mode.WRITE: 2>,self.key=None,self.columns='key,value')\u001b[0m\n",
      "\u001b[35m2021-10-31 14:50:32.374 \u001b[0m\u001b[32m[1635717031507357/start/1 (pid 65656)] \u001b[0m\u001b[22mself.hello_ds._executor.context=<Context.ONLINE: 4>\u001b[0m\n",
      "\u001b[35m2021-10-31 14:50:32.374 \u001b[0m\u001b[32m[1635717031507357/start/1 (pid 65656)] \u001b[0m\u001b[22m<class 'NoneType'> self.keys=None\u001b[0m\n",
      "\u001b[35m2021-10-31 14:50:32.378 \u001b[0m\u001b[32m[1635717031507357/start/1 (pid 65656)] \u001b[0m\u001b[22mread_df=      key  value\u001b[0m\n",
      "\u001b[35m2021-10-31 14:50:32.489 \u001b[0m\u001b[32m[1635717031507357/start/1 (pid 65656)] \u001b[0m\u001b[22m0   first      1\u001b[0m\n",
      "\u001b[35m2021-10-31 14:50:32.490 \u001b[0m\u001b[32m[1635717031507357/start/1 (pid 65656)] \u001b[0m\u001b[22m1  second      2\u001b[0m\n",
      "\u001b[35m2021-10-31 14:50:32.490 \u001b[0m\u001b[32m[1635717031507357/start/1 (pid 65656)] \u001b[0m\u001b[22m2   third      3\u001b[0m\n",
      "\u001b[35m2021-10-31 14:50:32.490 \u001b[0m\u001b[32m[1635717031507357/start/1 (pid 65656)] \u001b[0m\u001b[22m3  fourth      4\u001b[0m\n",
      "\u001b[35m2021-10-31 14:50:32.490 \u001b[0m\u001b[32m[1635717031507357/start/1 (pid 65656)] \u001b[0m\u001b[22m4  secret     42\u001b[0m\n",
      "\u001b[35m2021-10-31 14:50:32.492 \u001b[0m\u001b[32m[1635717031507357/start/1 (pid 65656)] \u001b[0m\u001b[1mTask finished successfully.\u001b[0m\n",
      "\u001b[35m2021-10-31 14:50:32.501 \u001b[0m\u001b[32m[1635717031507357/end/2 (pid 65660)] \u001b[0m\u001b[1mTask is starting.\u001b[0m\n",
      "\u001b[35m2021-10-31 14:50:33.501 \u001b[0m\u001b[32m[1635717031507357/end/2 (pid 65660)] \u001b[0m\u001b[22mdone!\u001b[0m\n",
      "\u001b[35m2021-10-31 14:50:33.590 \u001b[0m\u001b[32m[1635717031507357/end/2 (pid 65660)] \u001b[0m\u001b[1mTask finished successfully.\u001b[0m\n",
      "\u001b[35m2021-10-31 14:50:33.591 \u001b[0m\u001b[1mDone!\u001b[0m\n"
     ]
    }
   ],
   "source": [
    "\n",
    "!CONTEXT=ONLINE python 5_consistent_flow.py --no-pylint run"
   ]
  },
  {
   "cell_type": "markdown",
   "id": "c2d3a00b-ddcf-440e-a11a-913d159c8a07",
   "metadata": {},
   "source": [
    "## Try parameterized Dataset with columns=\"value\"\n",
    "### note: default is CONTEXT=BATCH"
   ]
  },
  {
   "cell_type": "code",
   "execution_count": 19,
   "id": "3bf63c5b-5b0b-417d-bbcf-1af36b337f20",
   "metadata": {},
   "outputs": [
    {
     "name": "stdout",
     "output_type": "stream",
     "text": [
      "\u001b[35m\u001b[1mMetaflow None\u001b[0m\u001b[35m\u001b[22m executing \u001b[0m\u001b[31m\u001b[1mConsistentFlow\u001b[0m\u001b[35m\u001b[22m\u001b[0m\u001b[35m\u001b[22m for \u001b[0m\u001b[31m\u001b[1muser:talebz\u001b[0m\u001b[35m\u001b[22m\u001b[K\u001b[0m\u001b[35m\u001b[22m\u001b[0m\n",
      "\u001b[35m\u001b[22mValidating your flow...\u001b[K\u001b[0m\u001b[35m\u001b[22m\u001b[0m\n",
      "\u001b[32m\u001b[1m    The graph looks good!\u001b[K\u001b[0m\u001b[32m\u001b[1m\u001b[0m\n",
      "\u001b[35m2021-10-31 14:49:17.786 \u001b[0m\u001b[1mWorkflow starting (run-id 1635716957778516):\u001b[0m\n",
      "\u001b[35m2021-10-31 14:49:17.790 \u001b[0m\u001b[32m[1635716957778516/start/1 (pid 65582)] \u001b[0m\u001b[1mTask is starting.\u001b[0m\n",
      "\u001b[35m2021-10-31 14:49:18.577 \u001b[0m\u001b[32m[1635716957778516/start/1 (pid 65582)] \u001b[0m\u001b[22mself.hello_ds=BatchDatasetPlugin(self.name='hello_ds',self.key=None,self.partition_by=None,self.run_id=None,self.columns='value',dataset_path=/Users/talebz/src/zda/datasets/.metaflow/datastore/ConsistentFlow/hello_ds)\u001b[0m\n",
      "\u001b[35m2021-10-31 14:49:18.674 \u001b[0m\u001b[32m[1635716957778516/start/1 (pid 65582)] \u001b[0m\u001b[22mself.hello_ds._executor.context=<Context.BATCH: 1>\u001b[0m\n",
      "\u001b[35m2021-10-31 14:49:18.674 \u001b[0m\u001b[32m[1635716957778516/start/1 (pid 65582)] \u001b[0m\u001b[22mread_df=   value\u001b[0m\n",
      "\u001b[35m2021-10-31 14:49:18.775 \u001b[0m\u001b[32m[1635716957778516/start/1 (pid 65582)] \u001b[0m\u001b[22m0     42\u001b[0m\n",
      "\u001b[35m2021-10-31 14:49:18.777 \u001b[0m\u001b[32m[1635716957778516/start/1 (pid 65582)] \u001b[0m\u001b[1mTask finished successfully.\u001b[0m\n",
      "\u001b[35m2021-10-31 14:49:18.784 \u001b[0m\u001b[32m[1635716957778516/end/2 (pid 65586)] \u001b[0m\u001b[1mTask is starting.\u001b[0m\n",
      "\u001b[35m2021-10-31 14:49:19.637 \u001b[0m\u001b[32m[1635716957778516/end/2 (pid 65586)] \u001b[0m\u001b[22mdone!\u001b[0m\n",
      "\u001b[35m2021-10-31 14:49:19.752 \u001b[0m\u001b[32m[1635716957778516/end/2 (pid 65586)] \u001b[0m\u001b[1mTask finished successfully.\u001b[0m\n",
      "\u001b[35m2021-10-31 14:49:19.753 \u001b[0m\u001b[1mDone!\u001b[0m\n"
     ]
    }
   ],
   "source": [
    "# Try parameterized Dataset with columns=\"value\"\n",
    "# note: default is CONTEXT=BATCH\n",
    "!python 5_consistent_flow.py --no-pylint run --hello_ds '{\"name\": \"hello_ds\", \"mode\": \"WRITE\", \"columns\": \"value\"}'"
   ]
  },
  {
   "cell_type": "markdown",
   "id": "54e263a7-def1-4a32-9815-798ff05ed6de",
   "metadata": {},
   "source": [
    "### Try it with ONLINE"
   ]
  },
  {
   "cell_type": "code",
   "execution_count": 21,
   "id": "d907fe1c-72c3-455d-8616-455983e7daaa",
   "metadata": {},
   "outputs": [
    {
     "name": "stdout",
     "output_type": "stream",
     "text": [
      "\u001b[35m\u001b[1mMetaflow None\u001b[0m\u001b[35m\u001b[22m executing \u001b[0m\u001b[31m\u001b[1mConsistentFlow\u001b[0m\u001b[35m\u001b[22m\u001b[0m\u001b[35m\u001b[22m for \u001b[0m\u001b[31m\u001b[1muser:talebz\u001b[0m\u001b[35m\u001b[22m\u001b[K\u001b[0m\u001b[35m\u001b[22m\u001b[0m\n",
      "\u001b[35m\u001b[22mValidating your flow...\u001b[K\u001b[0m\u001b[35m\u001b[22m\u001b[0m\n",
      "\u001b[32m\u001b[1m    The graph looks good!\u001b[K\u001b[0m\u001b[32m\u001b[1m\u001b[0m\n",
      "\u001b[35m2021-10-31 14:49:34.283 \u001b[0m\u001b[1mWorkflow starting (run-id 1635716974276275):\u001b[0m\n",
      "\u001b[35m2021-10-31 14:49:34.288 \u001b[0m\u001b[32m[1635716974276275/start/1 (pid 65614)] \u001b[0m\u001b[1mTask is starting.\u001b[0m\n",
      "\u001b[35m2021-10-31 14:49:35.037 \u001b[0m\u001b[32m[1635716974276275/start/1 (pid 65614)] \u001b[0m\u001b[22mself.hello_ds=DatasetPlugin(self.name='hello_ds',self.mode=<Mode.WRITE: 2>,self.key=None,self.columns='value')\u001b[0m\n",
      "\u001b[35m2021-10-31 14:49:35.044 \u001b[0m\u001b[32m[1635716974276275/start/1 (pid 65614)] \u001b[0m\u001b[22mself.hello_ds._executor.context=<Context.ONLINE: 4>\u001b[0m\n",
      "\u001b[35m2021-10-31 14:49:35.044 \u001b[0m\u001b[32m[1635716974276275/start/1 (pid 65614)] \u001b[0m\u001b[22m<class 'NoneType'> self.keys=None\u001b[0m\n",
      "\u001b[35m2021-10-31 14:49:35.048 \u001b[0m\u001b[32m[1635716974276275/start/1 (pid 65614)] \u001b[0m\u001b[22mread_df=      key  value\u001b[0m\n",
      "\u001b[35m2021-10-31 14:49:35.139 \u001b[0m\u001b[32m[1635716974276275/start/1 (pid 65614)] \u001b[0m\u001b[22m0   first      1\u001b[0m\n",
      "\u001b[35m2021-10-31 14:49:35.139 \u001b[0m\u001b[32m[1635716974276275/start/1 (pid 65614)] \u001b[0m\u001b[22m1  second      2\u001b[0m\n",
      "\u001b[35m2021-10-31 14:49:35.139 \u001b[0m\u001b[32m[1635716974276275/start/1 (pid 65614)] \u001b[0m\u001b[22m2   third      3\u001b[0m\n",
      "\u001b[35m2021-10-31 14:49:35.139 \u001b[0m\u001b[32m[1635716974276275/start/1 (pid 65614)] \u001b[0m\u001b[22m3  fourth      4\u001b[0m\n",
      "\u001b[35m2021-10-31 14:49:35.139 \u001b[0m\u001b[32m[1635716974276275/start/1 (pid 65614)] \u001b[0m\u001b[22m4  secret     42\u001b[0m\n",
      "\u001b[35m2021-10-31 14:49:35.141 \u001b[0m\u001b[32m[1635716974276275/start/1 (pid 65614)] \u001b[0m\u001b[1mTask finished successfully.\u001b[0m\n",
      "\u001b[35m2021-10-31 14:49:35.149 \u001b[0m\u001b[32m[1635716974276275/end/2 (pid 65619)] \u001b[0m\u001b[1mTask is starting.\u001b[0m\n",
      "\u001b[35m2021-10-31 14:49:35.951 \u001b[0m\u001b[32m[1635716974276275/end/2 (pid 65619)] \u001b[0m\u001b[22mdone!\u001b[0m\n",
      "\u001b[35m2021-10-31 14:49:36.050 \u001b[0m\u001b[32m[1635716974276275/end/2 (pid 65619)] \u001b[0m\u001b[1mTask finished successfully.\u001b[0m\n",
      "\u001b[35m2021-10-31 14:49:36.051 \u001b[0m\u001b[1mDone!\u001b[0m\n"
     ]
    }
   ],
   "source": [
    "!CONTEXT=ONLINE python 5_consistent_flow.py --no-pylint run --hello_ds '{\"name\": \"hello_ds\", \"mode\": \"WRITE\", \"columns\": \"value\"}'"
   ]
  },
  {
   "cell_type": "markdown",
   "id": "5d9388c8-fdf6-403a-a887-0372f42ad4b4",
   "metadata": {},
   "source": [
    "## Bind to certain keys: only works in ONLINE context"
   ]
  },
  {
   "cell_type": "code",
   "execution_count": 23,
   "id": "c166e36c-290a-4831-9bf8-82207a65403b",
   "metadata": {},
   "outputs": [
    {
     "name": "stdout",
     "output_type": "stream",
     "text": [
      "\u001b[35m\u001b[1mMetaflow None\u001b[0m\u001b[35m\u001b[22m executing \u001b[0m\u001b[31m\u001b[1mConsistentFlow\u001b[0m\u001b[35m\u001b[22m\u001b[0m\u001b[35m\u001b[22m for \u001b[0m\u001b[31m\u001b[1muser:talebz\u001b[0m\u001b[35m\u001b[22m\u001b[K\u001b[0m\u001b[35m\u001b[22m\u001b[0m\n",
      "\u001b[35m\u001b[22mValidating your flow...\u001b[K\u001b[0m\u001b[35m\u001b[22m\u001b[0m\n",
      "\u001b[32m\u001b[1m    The graph looks good!\u001b[K\u001b[0m\u001b[32m\u001b[1m\u001b[0m\n",
      "\u001b[35m2021-10-31 14:50:48.184 \u001b[0m\u001b[1mWorkflow starting (run-id 1635717048176403):\u001b[0m\n",
      "\u001b[35m2021-10-31 14:50:48.190 \u001b[0m\u001b[32m[1635717048176403/start/1 (pid 65685)] \u001b[0m\u001b[1mTask is starting.\u001b[0m\n",
      "\u001b[35m2021-10-31 14:50:49.010 \u001b[0m\u001b[32m[1635717048176403/start/1 (pid 65685)] \u001b[0m\u001b[22mself.hello_ds=DatasetPlugin(self.name='hello_ds',self.mode=<Mode.WRITE: 2>,self.key=None,self.columns=None)\u001b[0m\n",
      "\u001b[35m2021-10-31 14:50:49.019 \u001b[0m\u001b[32m[1635717048176403/start/1 (pid 65685)] \u001b[0m\u001b[22mself.hello_ds._executor.context=<Context.ONLINE: 4>\u001b[0m\n",
      "\u001b[35m2021-10-31 14:50:49.019 \u001b[0m\u001b[32m[1635717048176403/start/1 (pid 65685)] \u001b[0m\u001b[22m<class 'list'> self.keys=['secret']\u001b[0m\n",
      "\u001b[35m2021-10-31 14:50:49.024 \u001b[0m\u001b[32m[1635717048176403/start/1 (pid 65685)] \u001b[0m\u001b[22mread_df=      key  value\u001b[0m\n",
      "\u001b[35m2021-10-31 14:50:49.110 \u001b[0m\u001b[32m[1635717048176403/start/1 (pid 65685)] \u001b[0m\u001b[22m4  secret     42\u001b[0m\n",
      "\u001b[35m2021-10-31 14:50:49.113 \u001b[0m\u001b[32m[1635717048176403/start/1 (pid 65685)] \u001b[0m\u001b[1mTask finished successfully.\u001b[0m\n",
      "\u001b[35m2021-10-31 14:50:49.120 \u001b[0m\u001b[32m[1635717048176403/end/2 (pid 65689)] \u001b[0m\u001b[1mTask is starting.\u001b[0m\n",
      "\u001b[35m2021-10-31 14:50:49.914 \u001b[0m\u001b[32m[1635717048176403/end/2 (pid 65689)] \u001b[0m\u001b[22mdone!\u001b[0m\n",
      "\u001b[35m2021-10-31 14:50:50.010 \u001b[0m\u001b[32m[1635717048176403/end/2 (pid 65689)] \u001b[0m\u001b[1mTask finished successfully.\u001b[0m\n",
      "\u001b[35m2021-10-31 14:50:50.011 \u001b[0m\u001b[1mDone!\u001b[0m\n"
     ]
    }
   ],
   "source": [
    "!CONTEXT=ONLINE python 5_consistent_flow.py --no-pylint run --hello_ds '{\"name\": \"hello_ds\", \"mode\": \"WRITE\", \"keys\": \"secret\"}'"
   ]
  },
  {
   "cell_type": "code",
   "execution_count": null,
   "id": "8744fea1-3af1-4525-b2d7-cb6b9e44b7cb",
   "metadata": {},
   "outputs": [],
   "source": []
  }
 ],
 "metadata": {
  "kernelspec": {
   "display_name": "Python 3 (ipykernel)",
   "language": "python",
   "name": "python3"
  },
  "language_info": {
   "codemirror_mode": {
    "name": "ipython",
    "version": 3
   },
   "file_extension": ".py",
   "mimetype": "text/x-python",
   "name": "python",
   "nbconvert_exporter": "python",
   "pygments_lexer": "ipython3",
   "version": "3.9.7"
  }
 },
 "nbformat": 4,
 "nbformat_minor": 5
}
